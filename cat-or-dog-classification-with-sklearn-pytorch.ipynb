{
 "cells": [
  {
   "cell_type": "markdown",
   "id": "4604137e",
   "metadata": {
    "papermill": {
     "duration": 0.007512,
     "end_time": "2023-08-25T10:57:40.366383",
     "exception": false,
     "start_time": "2023-08-25T10:57:40.358871",
     "status": "completed"
    },
    "tags": []
   },
   "source": [
    "## Cat and Dog Classification (SKlearn,OpenCV) and (PyTorch)"
   ]
  },
  {
   "cell_type": "markdown",
   "id": "54e41205",
   "metadata": {
    "papermill": {
     "duration": 0.006616,
     "end_time": "2023-08-25T10:57:40.380175",
     "exception": false,
     "start_time": "2023-08-25T10:57:40.373559",
     "status": "completed"
    },
    "tags": []
   },
   "source": [
    "**1. Image Classification using OpenCV andSKlearn"
   ]
  },
  {
   "cell_type": "code",
   "execution_count": 1,
   "id": "e433ef4a",
   "metadata": {
    "execution": {
     "iopub.execute_input": "2023-08-25T10:57:40.397256Z",
     "iopub.status.busy": "2023-08-25T10:57:40.396526Z",
     "iopub.status.idle": "2023-08-25T10:57:44.579411Z",
     "shell.execute_reply": "2023-08-25T10:57:44.578493Z"
    },
    "papermill": {
     "duration": 4.195457,
     "end_time": "2023-08-25T10:57:44.582815",
     "exception": false,
     "start_time": "2023-08-25T10:57:40.387358",
     "status": "completed"
    },
    "tags": []
   },
   "outputs": [
    {
     "name": "stderr",
     "output_type": "stream",
     "text": [
      "/opt/conda/lib/python3.10/site-packages/scipy/__init__.py:146: UserWarning: A NumPy version >=1.16.5 and <1.23.0 is required for this version of SciPy (detected version 1.23.5\n",
      "  warnings.warn(f\"A NumPy version >={np_minversion} and <{np_maxversion}\"\n"
     ]
    }
   ],
   "source": [
    "import os\n",
    "import cv2\n",
    "import numpy as np\n",
    "import pandas as pd\n",
    "from sklearn.linear_model import LogisticRegression\n",
    "from sklearn.ensemble import RandomForestClassifier, ExtraTreesClassifier\n",
    "from sklearn.tree import DecisionTreeClassifier\n",
    "import lightgbm as lgb\n",
    "import xgboost as xgb\n",
    "from sklearn.metrics import accuracy_score\n",
    "import matplotlib.pyplot as plt\n",
    "import seaborn as sns\n",
    "\n",
    "seed = 42"
   ]
  },
  {
   "cell_type": "code",
   "execution_count": 2,
   "id": "8bcac963",
   "metadata": {
    "execution": {
     "iopub.execute_input": "2023-08-25T10:57:44.599393Z",
     "iopub.status.busy": "2023-08-25T10:57:44.598528Z",
     "iopub.status.idle": "2023-08-25T10:57:44.604193Z",
     "shell.execute_reply": "2023-08-25T10:57:44.602777Z"
    },
    "papermill": {
     "duration": 0.016868,
     "end_time": "2023-08-25T10:57:44.606841",
     "exception": false,
     "start_time": "2023-08-25T10:57:44.589973",
     "status": "completed"
    },
    "tags": []
   },
   "outputs": [],
   "source": [
    "train_folder = \"/kaggle/input/cats-and-dogs-image-classification/train\"\n",
    "test_folder = \"/kaggle/input/cats-and-dogs-image-classification/test\""
   ]
  },
  {
   "cell_type": "code",
   "execution_count": 3,
   "id": "a534bc82",
   "metadata": {
    "execution": {
     "iopub.execute_input": "2023-08-25T10:57:44.623885Z",
     "iopub.status.busy": "2023-08-25T10:57:44.623171Z",
     "iopub.status.idle": "2023-08-25T10:57:44.632080Z",
     "shell.execute_reply": "2023-08-25T10:57:44.630944Z"
    },
    "papermill": {
     "duration": 0.020236,
     "end_time": "2023-08-25T10:57:44.634506",
     "exception": false,
     "start_time": "2023-08-25T10:57:44.614270",
     "status": "completed"
    },
    "tags": []
   },
   "outputs": [],
   "source": [
    "def load_images(folder):\n",
    "    images = []\n",
    "    labels = []\n",
    "    \n",
    "    for subfolder in os.listdir(folder):\n",
    "        subfolder_path = os.path.join(folder, subfolder)\n",
    "        label = 1 if subfolder == 'dogs' else 0\n",
    "        \n",
    "        for imagelist in os.listdir(subfolder_path):\n",
    "            image_path = os.path.join(subfolder_path, imagelist)\n",
    "            image = cv2.imread(image_path)\n",
    "            image = cv2.resize(image, (64, 64))\n",
    "            images.append(image)\n",
    "            labels.append(label)\n",
    "                \n",
    "    return np.array(images), np.array(labels)"
   ]
  },
  {
   "cell_type": "code",
   "execution_count": 4,
   "id": "958d0e4d",
   "metadata": {
    "execution": {
     "iopub.execute_input": "2023-08-25T10:57:44.651369Z",
     "iopub.status.busy": "2023-08-25T10:57:44.650144Z",
     "iopub.status.idle": "2023-08-25T10:57:59.232421Z",
     "shell.execute_reply": "2023-08-25T10:57:59.231214Z"
    },
    "papermill": {
     "duration": 14.593774,
     "end_time": "2023-08-25T10:57:59.235365",
     "exception": false,
     "start_time": "2023-08-25T10:57:44.641591",
     "status": "completed"
    },
    "tags": []
   },
   "outputs": [],
   "source": [
    "train_images, train_labels = load_images(train_folder)\n",
    "test_images, test_labels = load_images(test_folder)\n",
    "\n",
    "flat_train_images = train_images.reshape(train_images.shape[0], -1)\n",
    "flat_test_images = test_images.reshape(test_images.shape[0], -1)"
   ]
  },
  {
   "cell_type": "code",
   "execution_count": 5,
   "id": "b0fea816",
   "metadata": {
    "execution": {
     "iopub.execute_input": "2023-08-25T10:57:59.251349Z",
     "iopub.status.busy": "2023-08-25T10:57:59.250939Z",
     "iopub.status.idle": "2023-08-25T10:57:59.259642Z",
     "shell.execute_reply": "2023-08-25T10:57:59.258414Z"
    },
    "papermill": {
     "duration": 0.019785,
     "end_time": "2023-08-25T10:57:59.262237",
     "exception": false,
     "start_time": "2023-08-25T10:57:59.242452",
     "status": "completed"
    },
    "tags": []
   },
   "outputs": [],
   "source": [
    "models = {\n",
    "    'Logistic Regression': LogisticRegression(max_iter=1000, random_state=seed),\n",
    "    'Random Forest': RandomForestClassifier(random_state=seed),\n",
    "    'Extra Trees': ExtraTreesClassifier(random_state=seed),\n",
    "    'Decision Tree': DecisionTreeClassifier(random_state=seed),\n",
    "    'XGBoost': xgb.XGBClassifier(random_state=seed),\n",
    "    'LightGBM': lgb.LGBMClassifier(random_state=seed)\n",
    "}\n"
   ]
  },
  {
   "cell_type": "code",
   "execution_count": 6,
   "id": "235509cd",
   "metadata": {
    "execution": {
     "iopub.execute_input": "2023-08-25T10:57:59.278154Z",
     "iopub.status.busy": "2023-08-25T10:57:59.277731Z",
     "iopub.status.idle": "2023-08-25T10:59:10.559283Z",
     "shell.execute_reply": "2023-08-25T10:59:10.557880Z"
    },
    "papermill": {
     "duration": 71.292778,
     "end_time": "2023-08-25T10:59:10.562160",
     "exception": false,
     "start_time": "2023-08-25T10:57:59.269382",
     "status": "completed"
    },
    "tags": []
   },
   "outputs": [
    {
     "name": "stdout",
     "output_type": "stream",
     "text": [
      "Accuracy Score of Logistic Regression model: 0.6142857142857143\n",
      "Accuracy Score of Random Forest model: 0.5928571428571429\n",
      "Accuracy Score of Extra Trees model: 0.6\n",
      "Accuracy Score of Decision Tree model: 0.6071428571428571\n",
      "Accuracy Score of XGBoost model: 0.6571428571428571\n",
      "Accuracy Score of LightGBM model: 0.6071428571428571\n"
     ]
    }
   ],
   "source": [
    "accuracy_scores = {}\n",
    "\n",
    "for model_name, model in models.items():\n",
    "    model.fit(flat_train_images, train_labels)\n",
    "    pred_labels = model.predict(flat_test_images)\n",
    "    accuracy = accuracy_score(test_labels, pred_labels)\n",
    "    accuracy_scores[model_name] = accuracy\n",
    "    print(f\"Accuracy Score of {model_name} model: {accuracy}\")"
   ]
  },
  {
   "cell_type": "code",
   "execution_count": 7,
   "id": "8e506d10",
   "metadata": {
    "execution": {
     "iopub.execute_input": "2023-08-25T10:59:10.579962Z",
     "iopub.status.busy": "2023-08-25T10:59:10.579557Z",
     "iopub.status.idle": "2023-08-25T10:59:10.960424Z",
     "shell.execute_reply": "2023-08-25T10:59:10.959287Z"
    },
    "papermill": {
     "duration": 0.393045,
     "end_time": "2023-08-25T10:59:10.962996",
     "exception": false,
     "start_time": "2023-08-25T10:59:10.569951",
     "status": "completed"
    },
    "tags": []
   },
   "outputs": [
    {
     "data": {
      "image/png": "[encoded data removed]",
      "text/plain": [
       "<Figure size 1000x500 with 1 Axes>"
      ]
     },
     "metadata": {},
     "output_type": "display_data"
    }
   ],
   "source": [
    "# Visualization of Accuracy Scores\n",
    "accuracy_scores = {k: v * 100 for k, v in accuracy_scores.items()}\n",
    "plt.figure(figsize=(10, 5))\n",
    "sns.barplot(x=list(accuracy_scores.values()), y=list(accuracy_scores.keys()), palette='tab10')\n",
    "plt.xlim(0, 100)\n",
    "plt.xlabel('Accuracy Score (%)')\n",
    "plt.ylabel('ML Models')\n",
    "plt.title('Accuracy Scores of Different Models', fontsize=10, fontweight='bold')\n",
    "plt.show()"
   ]
  },
  {
   "cell_type": "markdown",
   "id": "d73a7224",
   "metadata": {
    "papermill": {
     "duration": 0.007693,
     "end_time": "2023-08-25T10:59:10.978746",
     "exception": false,
     "start_time": "2023-08-25T10:59:10.971053",
     "status": "completed"
    },
    "tags": []
   },
   "source": [
    "** 2. Image Classification using PyTorch"
   ]
  },
  {
   "cell_type": "code",
   "execution_count": 8,
   "id": "fce97652",
   "metadata": {
    "execution": {
     "iopub.execute_input": "2023-08-25T10:59:10.996767Z",
     "iopub.status.busy": "2023-08-25T10:59:10.996347Z",
     "iopub.status.idle": "2023-08-25T10:59:15.046049Z",
     "shell.execute_reply": "2023-08-25T10:59:15.045150Z"
    },
    "papermill": {
     "duration": 4.06188,
     "end_time": "2023-08-25T10:59:15.048622",
     "exception": false,
     "start_time": "2023-08-25T10:59:10.986742",
     "status": "completed"
    },
    "tags": []
   },
   "outputs": [],
   "source": [
    "import os\n",
    "import cv2\n",
    "import numpy as np\n",
    "import torch\n",
    "import torch.nn as nn\n",
    "import torch.optim as optim\n",
    "from torch.utils.data import DataLoader\n",
    "from torchvision import datasets, transforms\n",
    "from sklearn.metrics import accuracy_score\n",
    "import matplotlib.pyplot as plt\n",
    "import seaborn as sns\n",
    "\n",
    "seed = 42\n",
    "torch.manual_seed(seed)\n",
    "np.random.seed(seed)\n",
    "device = \"cuda\" if torch.cuda.is_available() else \"cpu\""
   ]
  },
  {
   "cell_type": "code",
   "execution_count": 9,
   "id": "64cbc780",
   "metadata": {
    "execution": {
     "iopub.execute_input": "2023-08-25T10:59:15.067670Z",
     "iopub.status.busy": "2023-08-25T10:59:15.066592Z",
     "iopub.status.idle": "2023-08-25T10:59:15.071256Z",
     "shell.execute_reply": "2023-08-25T10:59:15.070402Z"
    },
    "papermill": {
     "duration": 0.016614,
     "end_time": "2023-08-25T10:59:15.073446",
     "exception": false,
     "start_time": "2023-08-25T10:59:15.056832",
     "status": "completed"
    },
    "tags": []
   },
   "outputs": [],
   "source": [
    "train_dir = \"/kaggle/input/cats-and-dogs-image-classification/train\"\n",
    "test_dir = \"/kaggle/input/cats-and-dogs-image-classification/test\""
   ]
  },
  {
   "cell_type": "code",
   "execution_count": 10,
   "id": "d60bacfd",
   "metadata": {
    "execution": {
     "iopub.execute_input": "2023-08-25T10:59:15.091619Z",
     "iopub.status.busy": "2023-08-25T10:59:15.090958Z",
     "iopub.status.idle": "2023-08-25T10:59:15.106178Z",
     "shell.execute_reply": "2023-08-25T10:59:15.105315Z"
    },
    "papermill": {
     "duration": 0.026832,
     "end_time": "2023-08-25T10:59:15.108433",
     "exception": false,
     "start_time": "2023-08-25T10:59:15.081601",
     "status": "completed"
    },
    "tags": []
   },
   "outputs": [],
   "source": [
    "data_transform = transforms.Compose([\n",
    "    transforms.Resize(size=(64, 64)),\n",
    "    transforms.ToTensor()\n",
    "])\n",
    "\n",
    "train_data = datasets.ImageFolder(root=train_dir, transform=data_transform)\n",
    "test_data = datasets.ImageFolder(root=test_dir, transform=data_transform)\n",
    "\n",
    "train_dataloader = DataLoader(dataset=train_data, batch_size=32, shuffle=True)\n",
    "test_dataloader = DataLoader(dataset=test_data, batch_size=32, shuffle=False)"
   ]
  },
  {
   "cell_type": "code",
   "execution_count": 11,
   "id": "69764b5e",
   "metadata": {
    "execution": {
     "iopub.execute_input": "2023-08-25T10:59:15.126751Z",
     "iopub.status.busy": "2023-08-25T10:59:15.126136Z",
     "iopub.status.idle": "2023-08-25T10:59:15.136231Z",
     "shell.execute_reply": "2023-08-25T10:59:15.135391Z"
    },
    "papermill": {
     "duration": 0.022167,
     "end_time": "2023-08-25T10:59:15.138709",
     "exception": false,
     "start_time": "2023-08-25T10:59:15.116542",
     "status": "completed"
    },
    "tags": []
   },
   "outputs": [],
   "source": [
    "class CNNModel(nn.Module):\n",
    "    def __init__(self):\n",
    "        super(CNNModel, self).__init__()\n",
    "        self.conv1 = nn.Conv2d(in_channels=3, out_channels=16, kernel_size=3, stride=1, padding=1)\n",
    "        self.relu1 = nn.ReLU()\n",
    "        self.pool1 = nn.MaxPool2d(kernel_size=2)\n",
    "        self.conv2 = nn.Conv2d(in_channels=16, out_channels=32, kernel_size=3, stride=1, padding=1)\n",
    "        self.relu2 = nn.ReLU()\n",
    "        self.pool2 = nn.MaxPool2d(kernel_size=2)\n",
    "        self.fc1 = nn.Linear(32 * 16 * 16, 128)  # Adjust the input size based on your architecture\n",
    "        self.relu3 = nn.ReLU()\n",
    "        self.fc2 = nn.Linear(128, 2)  # Output size 2 for binary classification\n",
    "        \n",
    "    def forward(self, x):\n",
    "        out = self.conv1(x)\n",
    "        out = self.relu1(out)\n",
    "        out = self.pool1(out)\n",
    "        out = self.conv2(out)\n",
    "        out = self.relu2(out)\n",
    "        out = self.pool2(out)\n",
    "        out = out.view(out.size(0), -1)\n",
    "        out = self.fc1(out)\n",
    "        out = self.relu3(out)\n",
    "        out = self.fc2(out)\n",
    "        return out\n"
   ]
  },
  {
   "cell_type": "code",
   "execution_count": 12,
   "id": "156115a9",
   "metadata": {
    "execution": {
     "iopub.execute_input": "2023-08-25T10:59:15.157092Z",
     "iopub.status.busy": "2023-08-25T10:59:15.156484Z",
     "iopub.status.idle": "2023-08-25T10:59:15.217625Z",
     "shell.execute_reply": "2023-08-25T10:59:15.216487Z"
    },
    "papermill": {
     "duration": 0.073558,
     "end_time": "2023-08-25T10:59:15.220393",
     "exception": false,
     "start_time": "2023-08-25T10:59:15.146835",
     "status": "completed"
    },
    "tags": []
   },
   "outputs": [],
   "source": [
    "model = CNNModel().to(device)\n",
    "\n",
    "error = nn.CrossEntropyLoss()\n",
    "optimizer = optim.Adam(model.parameters(), lr=0.001)\n",
    "\n",
    "epochs = 25"
   ]
  },
  {
   "cell_type": "code",
   "execution_count": 13,
   "id": "d82f0251",
   "metadata": {
    "execution": {
     "iopub.execute_input": "2023-08-25T10:59:15.239099Z",
     "iopub.status.busy": "2023-08-25T10:59:15.238713Z",
     "iopub.status.idle": "2023-08-25T11:02:29.970429Z",
     "shell.execute_reply": "2023-08-25T11:02:29.968943Z"
    },
    "papermill": {
     "duration": 194.743956,
     "end_time": "2023-08-25T11:02:29.972979",
     "exception": false,
     "start_time": "2023-08-25T10:59:15.229023",
     "status": "completed"
    },
    "tags": []
   },
   "outputs": [
    {
     "name": "stdout",
     "output_type": "stream",
     "text": [
      "Epoch [1/25] Loss: 12.5592\n",
      "Epoch [2/25] Loss: 12.3908\n",
      "Epoch [3/25] Loss: 12.0683\n",
      "Epoch [4/25] Loss: 11.7825\n",
      "Epoch [5/25] Loss: 10.8446\n",
      "Epoch [6/25] Loss: 10.7336\n",
      "Epoch [7/25] Loss: 9.8519\n",
      "Epoch [8/25] Loss: 8.8490\n",
      "Epoch [9/25] Loss: 8.8041\n",
      "Epoch [10/25] Loss: 7.5051\n",
      "Epoch [11/25] Loss: 6.6745\n",
      "Epoch [12/25] Loss: 6.1198\n",
      "Epoch [13/25] Loss: 5.0967\n",
      "Epoch [14/25] Loss: 5.3614\n",
      "Epoch [15/25] Loss: 4.2980\n",
      "Epoch [16/25] Loss: 4.1279\n",
      "Epoch [17/25] Loss: 2.7752\n",
      "Epoch [18/25] Loss: 2.1707\n",
      "Epoch [19/25] Loss: 1.8268\n",
      "Epoch [20/25] Loss: 1.5070\n",
      "Epoch [21/25] Loss: 1.0293\n",
      "Epoch [22/25] Loss: 0.8739\n",
      "Epoch [23/25] Loss: 0.8715\n",
      "Epoch [24/25] Loss: 0.8660\n",
      "Epoch [25/25] Loss: 0.5612\n"
     ]
    }
   ],
   "source": [
    "for epoch in range(epochs):\n",
    "    model.train()\n",
    "    epoch_loss = 0\n",
    "    for images, labels in train_dataloader:\n",
    "        images, labels = images.to(device), labels.to(device)\n",
    "        optimizer.zero_grad()\n",
    "        outputs = model(images)\n",
    "        loss = error(outputs, labels)\n",
    "        loss.backward()\n",
    "        optimizer.step()\n",
    "        epoch_loss += loss.item()\n",
    "    print(f\"Epoch [{epoch+1}/{epochs}] Loss: {epoch_loss:.4f}\")"
   ]
  },
  {
   "cell_type": "code",
   "execution_count": 14,
   "id": "97fcd30a",
   "metadata": {
    "execution": {
     "iopub.execute_input": "2023-08-25T11:02:29.995839Z",
     "iopub.status.busy": "2023-08-25T11:02:29.995405Z",
     "iopub.status.idle": "2023-08-25T11:02:31.654535Z",
     "shell.execute_reply": "2023-08-25T11:02:31.653163Z"
    },
    "papermill": {
     "duration": 1.673598,
     "end_time": "2023-08-25T11:02:31.657125",
     "exception": false,
     "start_time": "2023-08-25T11:02:29.983527",
     "status": "completed"
    },
    "tags": []
   },
   "outputs": [
    {
     "name": "stdout",
     "output_type": "stream",
     "text": [
      "Accuracy of CNN: 0.64\n"
     ]
    }
   ],
   "source": [
    "model.eval()\n",
    "predictions = []\n",
    "true_labels = []\n",
    "\n",
    "with torch.no_grad():\n",
    "    for images, labels in test_dataloader:\n",
    "        images, labels = images.to(device), labels.to(device)\n",
    "        outputs = model(images)\n",
    "        _, predicted = torch.max(outputs.data, 1)\n",
    "        predictions.extend(predicted.cpu().numpy())\n",
    "        true_labels.extend(labels.cpu().numpy())\n",
    "\n",
    "accuracy_cnn = accuracy_score(true_labels, predictions)\n",
    "print(f\"Accuracy of CNN: {accuracy_cnn:.2f}\")"
   ]
  },
  {
   "cell_type": "code",
   "execution_count": 15,
   "id": "5b58fb3d",
   "metadata": {
    "execution": {
     "iopub.execute_input": "2023-08-25T11:02:31.680286Z",
     "iopub.status.busy": "2023-08-25T11:02:31.679892Z",
     "iopub.status.idle": "2023-08-25T11:02:31.895216Z",
     "shell.execute_reply": "2023-08-25T11:02:31.894139Z"
    },
    "papermill": {
     "duration": 0.23032,
     "end_time": "2023-08-25T11:02:31.897938",
     "exception": false,
     "start_time": "2023-08-25T11:02:31.667618",
     "status": "completed"
    },
    "tags": []
   },
   "outputs": [
    {
     "data": {
      "image/png": "[encoded data removed]",
      "text/plain": [
       "<Figure size 600x400 with 1 Axes>"
      ]
     },
     "metadata": {},
     "output_type": "display_data"
    }
   ],
   "source": [
    "# Visualization\n",
    "plt.figure(figsize=(6, 4))\n",
    "sns.barplot(x=[accuracy_cnn * 100], y=['CNN'], palette='tab10')\n",
    "plt.xlim(0, 100)\n",
    "plt.xlabel('Accuracy Score (%)')\n",
    "plt.ylabel('Models')\n",
    "plt.title('Accuracy Score of CNN', fontsize=10, fontweight='bold')\n",
    "plt.show()"
   ]
  },
  {
   "cell_type": "markdown",
   "id": "ab513ab2",
   "metadata": {
    "papermill": {
     "duration": 0.01038,
     "end_time": "2023-08-25T11:02:31.919662",
     "exception": false,
     "start_time": "2023-08-25T11:02:31.909282",
     "status": "completed"
    },
    "tags": []
   },
   "source": [
    "**Conclusion**"
   ]
  },
  {
   "cell_type": "markdown",
   "id": "1fa28398",
   "metadata": {
    "papermill": {
     "duration": 0.010366,
     "end_time": "2023-08-25T11:02:31.940667",
     "exception": false,
     "start_time": "2023-08-25T11:02:31.930301",
     "status": "completed"
    },
    "tags": []
   },
   "source": [
    "The cats and dogs image dataset is preprocessed, feature extracted and evaluated with SKlearn package and compared with a custom model using CNN in PyTorch framework.\n",
    "\n",
    "* Accuracy (SKlearn) - **XGBoost**  = **65.71%**\n",
    "* Accuracy (PyTorch) - **CNN**      = **64 %**"
   ]
  },
  {
   "cell_type": "code",
   "execution_count": null,
   "id": "8fc0fefc",
   "metadata": {
    "papermill": {
     "duration": 0.01053,
     "end_time": "2023-08-25T11:02:31.961844",
     "exception": false,
     "start_time": "2023-08-25T11:02:31.951314",
     "status": "completed"
    },
    "tags": []
   },
   "outputs": [],
   "source": []
  }
 ],
 "metadata": {
  "kernelspec": {
   "display_name": "Python 3",
   "language": "python",
   "name": "python3"
  },
  "language_info": {
   "codemirror_mode": {
    "name": "ipython",
    "version": 3
   },
   "file_extension": ".py",
   "mimetype": "text/x-python",
   "name": "python",
   "nbconvert_exporter": "python",
   "pygments_lexer": "ipython3",
   "version": "3.10.12"
  },
  "papermill": {
   "default_parameters": {},
   "duration": 305.486967,
   "end_time": "2023-08-25T11:02:33.801186",
   "environment_variables": {},
   "exception": null,
   "input_path": "__notebook__.ipynb",
   "output_path": "__notebook__.ipynb",
   "parameters": {},
   "start_time": "2023-08-25T10:57:28.314219",
   "version": "2.4.0"
  }
 },
 "nbformat": 4,
 "nbformat_minor": 5
}
